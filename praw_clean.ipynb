{
 "cells": [
  {
   "cell_type": "code",
   "execution_count": 2,
   "source": [
    "import praw\r\n",
    "#import ffmpeg\r\n",
    "import youtube_dl\r\n",
    "from datetime import datetime"
   ],
   "outputs": [],
   "metadata": {}
  },
  {
   "cell_type": "code",
   "execution_count": 3,
   "source": [
    "reddit = praw.Reddit(client_id='Ow1rL-O9MdiCRkAa3N7gVw',\r\n",
    " client_secret='6NG00EHU054mOESlGBmgq7MuseHTLg', user_agent='koklayan')\r\n",
    "\r\n",
    "hot_submissions = reddit.subreddiallvel').top(limit00=10)"
   ],
   "outputs": [],
   "metadata": {}
  },
  {
   "cell_type": "code",
   "execution_count": 4,
   "source": [
    "def download_clip(submission, name):\r\n",
    "    url = submission.url\r\n",
    "    ydl_opts = {\r\n",
    "        'format': 'bestvideo+bestaudio/best',\r\n",
    "        'outtmpl': name+'.%(ext)s',\r\n",
    "    }\r\n",
    "    with youtube_dl.YoutubeDL(ydl_opts) as ydl:\r\n",
    "        ydl.download([url])\r\n",
    "\r\n",
    "options = {\r\n",
    "'min_length': 3,\r\n",
    "'max_length': 30,\r\n",
    "'total_length': 60,\r\n",
    "'min_upratio': 0.95,\r\n",
    "'min_ups': 1000\r\n",
    "}\r\n",
    "\r\n",
    "def filter_submissions(submissions, min_length=3, max_length=30, total_length=1900, min_upratio=0.95, min_ups=1000):\r\n",
    "    runningTotalTime = 0\r\n",
    "    subsList = []\r\n",
    "    for s in submissions:\r\n",
    "        if runningTotalTime > total_length:\r\n",
    "            break\r\n",
    "        #filter out stickied, nsfw and non-video posts\r\n",
    "        if s.stickied or not s.is_video or s.over_18:\r\n",
    "            continue\r\n",
    "        #Now apply upvote filters\r\n",
    "        if s.ups < min_ups or s.upvote_ratio < min_upratio:\r\n",
    "            continue  \r\n",
    "        duration = s.media['reddit_video']['duration']\r\n",
    "        if duration < max_length and duration > min_length:\r\n",
    "            continue\r\n",
    "        subsList.append(s)\r\n",
    "        runningTotalTime += duration\r\n",
    "    return subsList\r\n",
    "\r\n",
    "def comment_extractor(submission, ratio=0.004, max_length=300):\r\n",
    "    commentList = []\r\n",
    "    min_ups = submission.ups * ratio\r\n",
    "    submission.comment_sort='top'\r\n",
    "    for comment in submission.comments:\r\n",
    "        if comment.ups > min_ups and len(comment.body) < max_length:\r\n",
    "            commentList.append(comment.body)\r\n",
    "            for reply in comment.replies:\r\n",
    "                if reply.ups>min_ups/2 and len(reply.body) < max_length:\r\n",
    "                    commentList.append(\">>\" + reply.body)\r\n",
    "    return commentList\r\n",
    "        \r\n"
   ],
   "outputs": [],
   "metadata": {}
  },
  {
   "cell_type": "code",
   "execution_count": 5,
   "source": [
    "subsList = filter_submissions(hot_submissions)\r#\n",
    "comments = comment_extractor(subsList[2])#\r\n",
    "download_clip(subsList[2], \"2\")\r\n"
   ],
   "outputs": [],
   "metadata": {}
  },
  {
   "cell_type": "code",
   "execution_count": 11,
   "source": [
    "import requests\r#\n",
    "hot_submissions = reddit.subreddit('nextfuckinglevel').hot(limit=50)\r\n",
    "counter=0\r\n",
    "for submission subsListons:\r\n",
    "    if submission.ups>1000:\r\n",
    "        counter+=1\r\n",
    "    if submission.is_video: # and (\"Leigh\" in submission.title or 'dribb' in submission.title):\r\n",
    "        print(submissio, submission.media['reddit_video']['duration']n.title)\r\n",
    "        print(\"_AUDIO\" in requests.get(submission.media['reddit_video']['hls_url']).text)\r\n",
    "    utc = submission.created_utc\r\n",
    "    timeDifference = datetime.utcnow() - datetime.fromtimestamp(utc)\r\n",
    "    #print('hours ago {:.2f}'.format(timeDifference.total_seconds()/60/60-5))\r\n",
    "    #print(submission.ups)\r\n",
    "print(counter)"
   ],
   "outputs": [
    {
     "output_type": "stream",
     "name": "stdout",
     "text": [
      "Bunnies flop over when they feel completely safe 30\n",
      "False\n",
      "IT'S POWER TO THE TRADERS NOW 40\n",
      "False\n",
      "Irish man leaves funny recording for his funeral! 82\n",
      "True\n",
      "There are massive floods in southeast Mexico right now. These guys in a boat found a good boy who was cold, frightened, and clinging to a wall. Heroes... 45\n",
      "True\n",
      "This guy grows a chicken in an open fucking egg 91\n",
      "True\n",
      "I made a really big flip book during quarantine and people said to post it here. My love to everyone who is struggling right now! 102\n",
      "True\n",
      "Better shot of the Beirut explosion. 36\n",
      "True\n",
      "Gotta love The Rock. Fathers will do anything to help each other out! 75\n",
      "True\n",
      "Dr. Fauci said if he had to choose someone to play him it would be Brad Pitt — so Brad Pitt made this 183\n",
      "True\n",
      "WE'RE IN THE ENDGAME NOW 58\n",
      "False\n",
      "Practice makes perfect 32\n",
      "True\n",
      "He makes it seem so easy 44\n",
      "True\n",
      "Everyone needs a friend like #50 40\n",
      "True\n",
      "Sleeping Beauty Proposal 204\n",
      "True\n",
      "Baltimore accents 60\n",
      "True\n",
      "[OC] Trending Google Searches by State Between 2018 and 2020 160\n",
      "False\n",
      "My rescue cat allows me to help him groom 31\n",
      "True\n",
      "I was without internet for a while. Decided to use my talents to make Deangelo actually juggle balls. 79\n",
      "True\n",
      "My classmate made this for our school Exhibition, but sadly it didn't happen :( 40\n",
      "True\n",
      "Every year a bobcat mama gives birth to a litter of kittens on my roof. I set up a camera this time around. 61\n",
      "True\n",
      "Head scritches=Instant golden smiles 45\n",
      "False\n",
      "A farmer in Nebraska asking a pro-fracking committee member to honor his word of drinking water from a fracking location 44\n",
      "True\n",
      "GTA in Real life 304\n",
      "True\n",
      "Overexcited fan finally meets Hugh Jackman and can’t control himself. 37\n",
      "True\n",
      "24\n"
     ]
    }
   ],
   "metadata": {}
  },
  {
   "cell_type": "code",
   "execution_count": 1,
   "source": [
    "import moviepy"
   ],
   "outputs": [],
   "metadata": {}
  },
  {
   "cell_type": "code",
   "execution_count": null,
   "source": [],
   "outputs": [],
   "metadata": {}
  }
 ],
 "metadata": {
  "orig_nbformat": 4,
  "language_info": {
   "name": "python",
   "version": "3.9.6",
   "mimetype": "text/x-python",
   "codemirror_mode": {
    "name": "ipython",
    "version": 3
   },
   "pygments_lexer": "ipython3",
   "nbconvert_exporter": "python",
   "file_extension": ".py"
  },
  "kernelspec": {
   "name": "python3",
   "display_name": "Python 3.9.6 64-bit ('.venv': venv)"
  },
  "interpreter": {
   "hash": "864891d228941dbf39f80b4d7d0320a8918ee176eff769ef2e46706fc3c6df8c"
  }
 },
 "nbformat": 4,
 "nbformat_minor": 2
}