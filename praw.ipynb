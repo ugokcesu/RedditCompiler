{
 "cells": [
  {
   "cell_type": "code",
   "execution_count": 1,
   "source": [
    "import praw\r\n",
    "#import ffmpeg\r\n",
    "import youtube_dl\r\n",
    "from datetime import datetime\r\n",
    "import json"
   ],
   "outputs": [],
   "metadata": {}
  },
  {
   "cell_type": "code",
   "execution_count": 6,
   "source": [
    "credentials = json.load(open(\"credentials.json\"))\r\n",
    "print(credentials['client_id'])"
   ],
   "outputs": [
    {
     "output_type": "stream",
     "name": "stdout",
     "text": [
      "Ow1rL-O9MdiCRkAa3N7gVw\n"
     ]
    }
   ],
   "metadata": {}
  },
  {
   "cell_type": "code",
   "execution_count": 2,
   "source": [
    "reddit = praw.Reddit(client_id='Ow1rL-O9MdiCRkAa3N7gVw',\r\n",
    " client_secret='6NG00EHU054mOESlGBmgq7MuseHTLg', user_agent='koklayan')\r\n",
    " "
   ],
   "outputs": [
    {
     "output_type": "stream",
     "name": "stderr",
     "text": [
      "Version 7.3.0 of praw is outdated. Version 7.4.0 was released 7 days ago.\n"
     ]
    }
   ],
   "metadata": {}
  },
  {
   "cell_type": "code",
   "execution_count": 7,
   "source": [
    "hot_submissions = reddit.subreddit('NextFuckingLevel').hot(limit=100)"
   ],
   "outputs": [],
   "metadata": {}
  },
  {
   "cell_type": "code",
   "execution_count": 8,
   "source": [
    "heights = []\r\n",
    "widths = []\r\n",
    "for submission in hot_submissions:\r\n",
    "    if submission.stickied or not submission.is_video:\r\n",
    "        continue\r\n",
    "    heights.append(submission.media['reddit_video']['height'])\r\n",
    "    widths.append(submission.media['reddit_video']['width'])\r\n",
    "    print(submission.title, submission.id)\r\n"
   ],
   "outputs": [
    {
     "output_type": "stream",
     "name": "stdout",
     "text": [
      "This guy showing his mime skills at work ozav1u\n",
      "When you realise the clock was wrong and you just set a new world record... oza8q4\n",
      "Russian girls taking cosplay into cloning oz8m5l\n",
      "🏰A 700-year-old castle built on a swamp🏰 oze8mq\n",
      "Girl does a back flip and split at the same time! ozeb3u\n",
      "No bridge? No problem! oz7iat\n",
      "This elephant has an armed escort when he travels oz80l1\n",
      "Sculpture made from 600 strands of stainless steel wire (Credit: Andy Elliott Artworks) oz7hdi\n",
      "A clock that operates by human hands... oz1a4k\n",
      "Her dog just shows off his moves on her wedding . Their moment is so priceless . This two are amazing ! ozbq75\n",
      "💯Zara's Transparent LED Display Storefront💯 ozfohu\n",
      "Dad sent me this video of him making a badass clipboard throw. ozaf5b\n",
      "Building an island on a Interactive Topographic Map Sandbox oz506m\n",
      "Skater girl on one wheel oz40zz\n",
      "How the Dutch build a tunnel under a highway in one weekend. Credit- Rijkswaterstaat oz66xs\n",
      "New series of ‘Pimp My Segway’ being made I see. oz2fkq\n",
      "And remember, if Singapore tries to invade you, let them ozeez4\n",
      "Full contact medieval fighting with weapons and armour. ozczo2\n",
      "Grandpa is old but not old enough for a strike . oz6e37\n",
      "Finding your dog after he went missing oywuxd\n",
      "Water Melon Blast Radius Over 9000 ozg0km\n",
      "Glorious sea dragon ozcma4\n",
      "The greatest tattoo inspired by a bite oyvkgg\n",
      "US Navy showing their skills with jet oz7vq8\n",
      "A digital artwork I made a while ago oyxo2q\n",
      "Ping-pong out of the world return oz2r6t\n",
      "Iguana enters full survival mode when surrounded by snakes. ozfspq\n",
      "This drummer at the Newsboys concert oytkdv\n",
      "Smoothest hotdog you'll ever see oz67z0\n",
      "Portrait of Nikola Tesla using ELECTRICITY oywzug\n",
      "Surfing Dogs Collide And End Up On Same Board . oywj5z\n",
      "Making a Star Wars Ball oz13go\n",
      "He's doing this at 64 years old oz5ffo\n",
      "Launching With Style ozcq8d\n",
      "Rift that guitar lady ! It's amazing how she's doing it without so much effort on it ! oz17fd\n",
      "🦧Chimpanzee Playing Ping-Pong🦧 oz2bgv\n",
      "Olympic Wrestler Gable Steveson winning gold in the last 0.2 seconds of his match. oz9ufo\n",
      "A normal day in Florida ozeaw6\n",
      "Imagine climbing all the way up here just to change a lightbulb.... oyuz0g\n",
      "A 70 year old lady finishing a 100 mile endurance race just seconds before the 30 hour cutoff oz8qob\n",
      "Timber wolf freed from trap. oyqrrw\n",
      "The Littlest Shuffles : Up in here oyyk3g\n",
      "Lasha Talakhadze breaks every single World Record in Weightlifting ozcb35\n",
      "Mr. Bean Live Performance at the London 2012 Olympic Games oz8r7l\n",
      "WIP sculpture I've been working on last couple of months oz45zb\n",
      "wedding professionals are very skilled at doing their job (original post removed because of title) ozckw8\n",
      "This crazy wildfire in the land down under. oz8bsz\n",
      "Guy saves his house during the flood by using something his friends and neighbors initially laughed at him for oyqgx8\n",
      "Omega's beautiful homage to Japan ozblwf\n",
      "Old school skating in Russia oyy74p\n",
      "Composer Ben Folds composes a full orchestral song in only 10 minutes. ozdbzl\n",
      "At least easy for him. oz2udn\n",
      "Maria Andrejczyk badass javelin thrower. ozcqg4\n",
      "The floor is lava - extrem edition oysi7o\n",
      "Dad of the century oz9ttl\n",
      "My boyfriend got me this necklace that says 'I Love You' in 101 different languages inside the small glass ball. ozcyxe\n",
      "Awesome Irish dance steps oz4m4i\n",
      "Beast Mode Activated oylre9\n",
      "This is real balance oz7xag\n",
      "Frontier Flight Attendant oyx9li\n",
      "Chester Bennington's 17 second-long scream for Given Up during AOL sessions 2007 is mindblowing! oz4ce9\n",
      "Golden snub nose monkey looks like a child in halloween costume.(CTTO) oynseg\n",
      "Demolishing coal power plant in Yorkshire, England oz9kb3\n",
      "Smoookee oonn the waaaaaterrrrrr~ oz4o41\n",
      "This \"hand\"made art oz9dxs\n",
      "Playing music with plasma ozg5d9\n",
      "Tom Cruise BREAKS his foot while doing a stunt but doesn’t break character till he gets himself off screen oze4so\n",
      "Rush's Neil Peart demonstrates his legendary rhythm while playing Subdivisions. The video is from a 2015 show, but the audio track gets swapped with their 1982 studio recording of the song. He's still flawlessly in sync 33 years later. ozet5v\n",
      "Halle Berry training for John Wick 3 - and showing gun safety oyv8p0\n",
      "Who even needs instruments? ozafjz\n",
      "Brian Shaw breaks Keg Toss World Record (15 kg/33 lbs over a fence that's 7,75 m/25 ft 5 in) ozc4j9\n",
      "well this happend today in michigan oytyti\n",
      "Size comparison of explosions next to landmarks/buildings. oyoytp\n",
      "when asked men what was the best moment in their life oyrcck\n",
      "Breakfast on a locomotive oykn8g\n",
      "The feeling of escaping when you damage the wrong car. oz89of\n",
      "This guy can throw cards into ANYTHING oz21gt\n",
      "meet the future champion 🏆 oz6o18\n",
      "Bombardier beetles possess a remarkable defense mechanism where a hot chemical spray is released from the tip of their abdomen, with an audible explosive sound. oz9gos\n",
      "Inspirational Bikers Make Little Boy Become The Coolest Kid in School oyzuka\n",
      "Wrestler celebrates win with coach through belly to belly suplex ᕦ(●__●)ᕤ oz4c1g\n",
      "14-year-old blows Olympic diving record out of the water with two perfect dives! oygm6k\n",
      "My Viral Dunk and Buttscoot 🏀 🤣 oz84m4\n",
      "Kelly Kurdi, ASL interpreter, performs ‘WAP’ At Lollapalooza ozgkuo\n",
      "These lads jumping building to building as if nothing oz2bcg\n",
      "Elephant stomp crocodile to death oyvla6\n",
      "Indian wrestler Bajrang Punia celebrating his win in a unique way with his coach. oz64ef\n",
      "A 320LB MAN BACKFLIP AND RAISE HIS SHORT, FAT SELF DOING A HANDSTAND COMPETITION WITH HIS DAUGHTER! oz4hj6\n",
      "The only preserved blue whale heart in the World! It’s almost 6 feet tall and the wall of the heart is around 2 inches thick! It’s at the new whale exhibit at the ROM.(Original) oz6t4k\n",
      "This musical interlude oz5ixv\n",
      "Commemorating Lionel Messi's career at Barcelona with this assemblage of 50 photos (Credits: @ari_fararooy on Instagram) oz7how\n",
      "Who needs a hammer👍 oz272r\n",
      "Owls make almost no noise when flying, even when tested in a room with multiple microphones. oyha4f\n"
     ]
    }
   ],
   "metadata": {}
  },
  {
   "cell_type": "code",
   "execution_count": 40,
   "source": [
    "import matplotlib.pyplot as plt\r\n",
    "plt.hist(heights)"
   ],
   "outputs": [
    {
     "output_type": "execute_result",
     "data": {
      "text/plain": [
       "(array([ 46.,  11.,  76., 126.,   2.,   2., 237.,   7.,   2., 137.]),\n",
       " array([ 180.,  270.,  360.,  450.,  540.,  630.,  720.,  810.,  900.,\n",
       "         990., 1080.]),\n",
       " <BarContainer object of 10 artists>)"
      ]
     },
     "metadata": {},
     "execution_count": 40
    },
    {
     "output_type": "display_data",
     "data": {
      "text/plain": [
       "<Figure size 432x288 with 1 Axes>"
      ],
      "image/png": "[encoded data removed]"
     },
     "metadata": {
      "needs_background": "light"
     }
    }
   ],
   "metadata": {}
  },
  {
   "cell_type": "code",
   "execution_count": 45,
   "source": [
    "plt.hist(widths)"
   ],
   "outputs": [
    {
     "output_type": "execute_result",
     "data": {
      "text/plain": [
       "(array([ 33., 264., 166.,  34.,  38.,   9.,  62.,   5.,   1.,  34.]),\n",
       " array([ 132. ,  310.8,  489.6,  668.4,  847.2, 1026. , 1204.8, 1383.6,\n",
       "        1562.4, 1741.2, 1920. ]),\n",
       " <BarContainer object of 10 artists>)"
      ]
     },
     "metadata": {},
     "execution_count": 45
    },
    {
     "output_type": "display_data",
     "data": {
      "text/plain": [
       "<Figure size 432x288 with 1 Axes>"
      ],
      "image/png": "[encoded data removed]"
     },
     "metadata": {
      "needs_background": "light"
     }
    }
   ],
   "metadata": {}
  },
  {
   "cell_type": "code",
   "execution_count": 44,
   "source": [
    "plt.scatter(widths, heights)\r\n",
    "plt.plot([0,2000], [0,2000])"
   ],
   "outputs": [
    {
     "output_type": "execute_result",
     "data": {
      "text/plain": [
       "[<matplotlib.lines.Line2D at 0x1e70979d7c0>]"
      ]
     },
     "metadata": {},
     "execution_count": 44
    },
    {
     "output_type": "display_data",
     "data": {
      "text/plain": [
       "<Figure size 432x288 with 1 Axes>"
      ],
      "image/png": "[encoded data removed]"
     },
     "metadata": {
      "needs_background": "light"
     }
    }
   ],
   "metadata": {}
  },
  {
   "cell_type": "code",
   "execution_count": 7,
   "source": [
    "for submission in hot_submissions:\r\n",
    "    if submission.stickied or not submission.is_video:\r\n",
    "        continue\r\n",
    "  \r\n",
    "    print('title: ', submission.title)\r\n",
    "    print('ups: ', submission.ups)\r\n",
    "    print('up ratio: ', submission.upvote_ratio)\r\n",
    "    print(submission.media['reddit_video'])\r\n",
    "    utc = submission.created_utc\r\n",
    "    timeDifference = datetime.utcnow() - datetime.fromtimestamp(utc)\r\n",
    "    print('hours ago {:.2f}'.format(timeDifference.total_seconds()/60/60-5))\r\n",
    "    print('url: ', submission.url)\r\n",
    "    print(submission.is_video)\r\n",
    "    break\r\n",
    "    \r\n",
    "    "
   ],
   "outputs": [
    {
     "output_type": "stream",
     "name": "stdout",
     "text": [
      "title:  This drummer at the Newsboys concert\n",
      "ups:  15446\n",
      "up ratio:  0.94\n",
      "{'bitrate_kbps': 4800, 'fallback_url': 'https://v.redd.it/2bafvf7b9mf71/DASH_1080.mp4?source=fallback', 'height': 1080, 'width': 797, 'scrubber_media_url': 'https://v.redd.it/2bafvf7b9mf71/DASH_96.mp4', 'dash_url': 'https://v.redd.it/2bafvf7b9mf71/DASHPlaylist.mpd?a=1630819636%2CNzMyZDEwNjEwNDAxYzQ4NWUyYWVjNmE1ZDJmNmY0Y2NmYTg1Yzg3ZDE5OGJmZjNkMTk3YTNkYzc3MWVmNGZjNQ%3D%3D&v=1&f=sd', 'duration': 48, 'hls_url': 'https://v.redd.it/2bafvf7b9mf71/HLSPlaylist.m3u8?a=1630819636%2COWFkMjJiNWJhZjhkMzVmODJiZjA0Yjg2MTlkNmM2N2JjMjBiYjNlYWZmNTBkMjdmOTRjZjkwYmQ5NjYwMzdlMA%3D%3D&v=1&f=sd', 'is_gif': False, 'transcoding_status': 'completed'}\n",
      "hours ago 6.88\n",
      "url:  https://v.redd.it/2bafvf7b9mf71\n",
      "True\n"
     ]
    }
   ],
   "metadata": {}
  },
  {
   "cell_type": "code",
   "execution_count": 5,
   "source": [
    "def download_clip(id, name):\r\n",
    "    submission = reddit.submission(id)\r\n",
    "    url = submission.url\r\n",
    "    ydl_opts = {\r\n",
    "        'format': 'bestvideo+bestaudio/best',\r\n",
    "        'outtmpl': 'name.%(ext)s',\r\n",
    "    }\r\n",
    "    with youtube_dl.YoutubeDL(ydl_opts) as ydl:\r\n",
    "        ydl.download([url])"
   ],
   "outputs": [],
   "metadata": {}
  },
  {
   "cell_type": "code",
   "execution_count": 9,
   "source": [
    "download_clip('oza8q4', 'short_no_audio')"
   ],
   "outputs": [
    {
     "output_type": "stream",
     "name": "stdout",
     "text": [
      "[Reddit] cmtf9mb2mrf71: Downloading m3u8 information\n",
      "[Reddit] cmtf9mb2mrf71: Downloading MPD manifest\n",
      "[download] Destination: name.mp4\n",
      "[download] 100% of 1.47MiB in 00:00                   \n"
     ]
    }
   ],
   "metadata": {}
  },
  {
   "cell_type": "code",
   "execution_count": 6,
   "source": [
    "noaud = \r\n"
   ],
   "outputs": [],
   "metadata": {}
  },
  {
   "cell_type": "code",
   "execution_count": 14,
   "source": [
    "    for s in hot_submissions:\r\n",
    "        #filter out stickied, nsfw and non-video posts\r\n",
    "        if s.stickied or not s.is_video or s.over_18:\r\n",
    "            continue\r\n",
    "        #Now apply upvote filters\r\n",
    "        if s.ups < 1000 or s.upvote_ratio < 0.9:\r\n",
    "            continue  \r\n",
    "        duration = s.media['reddit_video']['duration']\r\n",
    "        print(s.media['reddit_video']['height'], s.media['reddit_video']['width'], s.title)\r\n",
    "        "
   ],
   "outputs": [
    {
     "output_type": "stream",
     "name": "stdout",
     "text": [
      "448 854 A group of bees take revenge on a hornet for eating one of them\n",
      "888 1162 László Szatmári survives a staggering 30 seconds in 9Gs of force\n",
      "720 600 Handstand pushups on a whole 'nother level\n",
      "480 480 Suspension at work\n",
      "720 405 Guy with no arms driving a car\n",
      "720 407 I don't know how he did it, but it looks very impressive.\n",
      "720 404 I love this kid ... so effortless to make us laugh ..\n",
      "238 426 Derek Poundstone breaks Axle Press World Record, decides to keep the weight up for a while just for fun\n",
      "480 456 When you know your angles and have skills.\n",
      "238 426 Not all heroes wear capes. sometimes they wear high visibility jackets and helmets\n",
      "720 404 Man literally figured out LIFE...\n",
      "720 406 The mindset every trainer needs. The way he guides\n",
      "360 287 The best way to avoid an argument. Tongue fu.\n",
      "720 604 Dogs are just amazing\n",
      "480 480 Firefighter uses his hose as a shield\n",
      "360 360 Hero with precision timing\n",
      "720 406 This aquarium allows kids to see the fished they drew inside it!\n",
      "360 362 Horse protecting his cowboy during work\n",
      "1080 1080 The Xiaolangdi Dam in China discharging water at 4,800 cubic meters per second\n",
      "1080 1080 4 years ago Marcia Malcar fell when carrying the paralympic torch, however most importantly she got back up and continued with the support of the crowd and staff.\n",
      "240 320 Sea plant disappears when being touched\n",
      "480 395 The guy she tells me not to worry about\n",
      "360 360 When you already have a Yellow Card. So Good 😁\n",
      "720 406 This guy used an app that animates pictures and shows his parents their parents\n",
      "720 729 Fire suppression system at a gas station that malfunctioned\n",
      "360 640 Bubbles, smoke and fire\n",
      "720 405 How do you look at your hand and think \"Ah yes, green!\"\n",
      "480 854 As a gamer, I am amazed how he pulled a sharp left turn on this.\n",
      "480 480 Well done to all involved especially the man who actually went down and got the boy\n",
      "360 640 Falling meteor captured in Idaho\n",
      "720 405 I don’t know if this has been posted here already but this is so cool\n",
      "720 406 This mother is immensely supportive of her daughter who suffers from cerebral palsy\n",
      "480 854 That guy is a metal\n",
      "720 406 Asian fighting stunts are astonishing as ever.\n",
      "1080 1920 Venom wooden mask, wood carving\n",
      "1080 1888 Welcome to NextFucking City\n",
      "720 576 Dubai under a sea of clouds\n",
      "720 405 Drones illustrating the sports at the Tokyo Olympics\n"
     ]
    }
   ],
   "metadata": {}
  },
  {
   "cell_type": "code",
   "execution_count": 113,
   "source": [
    "options = {\r\n",
    "'min_length': 3,\r\n",
    "'max_length': 30,\r\n",
    "'total_length': 60,\r\n",
    "'min_upratio': 0.95,\r\n",
    "'min_ups': 1000\r\n",
    "}\r\n",
    "\r\n",
    "def gather_links(submissions, min_length=3, max_length=30, total_length=90, min_upratio=0.95, min_ups=1000):\r\n",
    "    runningTotalTime = 0\r\n",
    "    subsList = []\r\n",
    "    for s in submissions:\r\n",
    "        if runningTotalTime > total_length:\r\n",
    "            break\r\n",
    "        #filter out stickied, nsfw and non-video posts\r\n",
    "        if s.stickied or not s.is_video or s.over_18:\r\n",
    "            continue\r\n",
    "        #Now apply upvote filters\r\n",
    "        if s.ups < min_ups or s.upvote_ratio < min_upratio:\r\n",
    "            continue  \r\n",
    "        duration = s.media['reddit_video']['duration']\r\n",
    "        if duration < max_length and duration > min_length:\r\n",
    "            continue\r\n",
    "        subsList.append(s)\r\n",
    "        runningTotalTime += duration\r\n",
    "    return subsList\r\n",
    "        \r\n"
   ],
   "outputs": [],
   "metadata": {}
  },
  {
   "cell_type": "code",
   "execution_count": 114,
   "source": [
    "subList = gather_links(hot_submissions)"
   ],
   "outputs": [],
   "metadata": {}
  },
  {
   "cell_type": "code",
   "execution_count": 104,
   "source": [
    "print(subList[1].comment_sort)\r\n",
    "\r\n",
    "for top_level_comment in subList[1].comments:\r\n",
    "    print(top_level_comment.body, top_level_comment.ups)\r\n"
   ],
   "outputs": [
    {
     "output_type": "stream",
     "name": "stdout",
     "text": [
      "old\n",
      "I'd love to see them continue on adding armor, gun turrets and anti-personel countermeasures then roar off to tame the Cursed Earth..... 77\n",
      "Wow… all this in less then a minute!! Congrats fellows 676\n",
      "Amazkng 2\n",
      "Jeez, at least give us a proper tour at the end… 437\n",
      "The fact that they cut off the tour at the end is unforgivable 366\n",
      "They finished about the time they discovered a new camper store that could of sold them a motor home for less than they spent on making this bus a bus full of camping stuff 11\n",
      "Disappointed. \n",
      "\n",
      "We need to see the classic 5 second clip of them driving at 75mph, and then a quick look at all the fucking house plants, knives on magnetic rack, dog laying on persian rug, kitchsy ceramic ornaments and other ~~homely stuff~~ projectiles. \n",
      "\n",
      "All so there can be 100 comments all saying the same thing: what if you crash!??!???? 80\n",
      "You too, with only 30,000$ and 300 hours of skilled labor, can turn an ordinary bus into a bougie motor home 254\n",
      "All the heavy stuff is in the middle. That’s smart weight distribution 16\n",
      "All that to have a wobbly 3 second tour at the end. Great job. 18\n",
      "Nice. Now turn it back into a bus 19\n",
      "I get it, you’re a good do-it-yourselfer 0\n",
      "Anyone else on tiktok and noticing that reddit is almost exclusively tiktok content nowadays? 43\n",
      "I got it one piece at a time and it didn’t cost me a dime. 0\n",
      "This ended too fast. 3\n",
      "I used to daydream about doing this when I was small, didn’t realise how hard it would be 3\n",
      "That thing is going to be super duper hot. They didn't put any insulation into it. I understand space is tight, but they could have used aerogel bats. 4\n",
      "Nice work... 2\n",
      "damn thats impressive 2\n",
      "The bitch is you can’t stay at any rv parks in a skoolie because it doesn’t have an RVIA certified sticker on the side. Most skoolies are built far superior to any rv you can purchase from a dealership, so this pisses me off. 25\n",
      "So you put all this money into a vehicle that probably needs a new engine and drive train now. \n",
      "\n",
      "Congratulations, you created a small, uncomfortable, money suck. 6\n",
      "I love the style. I wonder how functional they found it after use. 1\n",
      "Nice. 1\n",
      "0 insulation...nice I guess 0\n",
      "No 1\n",
      "An rv 1\n",
      "Couple building choices I wouldn't use here for a moving vehicle...click flooring will flex and separate and tiles are likely to flex and crack. Otherwise it's mint! 1\n",
      "What wood stove is that?? 1\n",
      "I wonder how it turned out. 1\n",
      "Barby sound lets go (im a 10th grader in highschool and i know what this is i am so sad) 1\n",
      "Would they still have to stop at railroad tracks? 🤔 1\n",
      "I heard the Achilles heel of these busses is the suspension. It's hard and bumpy, and in time would shake everything to death. 3\n",
      "Badass no doubt. But he was concentrating too hard on that snap together flooring. Lol 1\n",
      "this is amazing...where can you park legally? Besides RV parks, ideally somewhere free? 1\n",
      "He loves what though?\n",
      "\n",
      "WHAT DOES HE LOVE???????! 1\n",
      "Would of like to of seen more of the finished article 1\n",
      "Thanks for the 1.08 seconds of final results. Sheesh! 1\n",
      "I wish I had this sort of skill. 1\n",
      "For the same amount of money and much less sweat, one can get a decent used RV. But, I guess the bougie gotta bougie. 1\n",
      "You make it look easy but I know better. Nice work! 1\n",
      "If your time is free, then probably worth it - otherwise, not for me… 1\n",
      "/r/schoolies 1\n",
      "There's a lot more of this over at /r/skoolies ! 1\n",
      "And everything cracks and falls apart over the first set of train tracks 1\n",
      "Insulation optional. 1\n",
      "Gangster af 1\n",
      "I'm curious how much the bus weights before and after modification.  It is too heavy to drive now?\n",
      "Too top heavy to take a corner. \n",
      "\n",
      "Not a hater - curious if it can be safely driven or just parked like a double wide 2\n",
      "Tell us you have disposable time and income without telling us you have disposable time and income 1\n",
      "Looks gorgeous!…… but ehhhh it’s a school bus 1\n",
      "The audio makes me want to have a head on collision with with a semi truck 2\n",
      "Nice soundtrack. Thought my phone was playing a random video again. Glad I didn't throw it. 1\n",
      "So is all that electric. If it uses gas for the stove and such that is gonna be expensive. Must buses use so much gas. 1\n",
      "So we’re do these people get the buses? 1\n",
      "That audio should have had a beat drop at the beginning. Perfect setup for it 1\n",
      "I always wanted to do this. It's got to be expensive as hell. 1\n",
      "Yea, if you are 1,70. 1\n",
      "Great now how’s the engine looking? 1\n",
      "Yeah. This shit is nowhere close to nfl. This is homeless deluxe 1\n",
      "99% of video is cutting wood and shit and then you get 1 second to try and take in the finished product. I hate that. Cool bus though 3\n",
      "Perfect pedo rape bus! 1\n",
      "This is great work and all, I just wanna know what they did about the shit gas mileage those things get. 1\n",
      "And when the shit box breaks down? 1\n",
      "This video is 53 seconds long and only uses 2-3 of those seconds to show the finished product 2\n",
      "Literally a dream I’ve had since I was six! 1\n",
      "where is da link to the entire video 1\n",
      "As cool as the inside is, from outside it still looks like a school bus. Converted ambulances have the same problem,  can't get away from their roots. 1\n",
      "An 1\n",
      "Wtf I hate when these videos suddenly end without properly showing the finished product 1\n",
      "That looks like a lot of work 1\n",
      "Nice transformation. Since you're going to be living on that bus you're not going to have any room for all those tools. Be happy to take them off your hands.😊 1\n",
      "My best friend did the same thing in a Mini School Bus 1\n",
      "This is from a documentary called expedition happiness.  A decent watch for anyone who likes to adventure and travel but can't right now 1\n",
      "how much did you guys invest? gimme a number 1\n",
      "Why show all this and then leave out a fucking reasonable tour at the end…. Whats the point? 1\n",
      "Stop the music 1\n",
      "That's my dream right there!!! I'm soooooooo serious!!!! 1\n",
      "That thing has to be overweight now. 1\n",
      "Any subs out there where we can see a lot more of stuff like this? 1\n",
      "Is this street legal? 1\n",
      "Wow! Absolutely love this! 1\n",
      "I wish someday I'll have enough saving to build my own RV so I can travel the whole country with my wife 🤗 1\n",
      "Was that a “pot” belly stove? 1\n",
      "Hopefully that thing doesn’t have regular old school bus suspension when it’s done. 1\n",
      "I wonder how much money it took to do that 1\n",
      "Looks like fun! 1\n",
      "Wow! That is a awesome build! 1\n",
      "and then there's the guys who just have an old bus and don't change it at all, it's so white trash 1\n",
      "r/vandwellers approved 1\n",
      "u/savevideo 1\n",
      "u/savevideobot 1\n",
      "I always face a question with RVs\n",
      "\n",
      "Where and how do you drink your sewage...? 1\n",
      "I wish we had been shown a better \"done\" segment. 1\n",
      "an* 1\n",
      "The ultimate bang bus! 1\n",
      "With all the extra weight I hope they worked on the breaks too... 1\n",
      "The fuck is that scream? 1\n",
      "Does anyone have the names or contact info for the people that did this? I really want to do this. 1\n",
      "This is good, but I feel the roof is really low, but I don't know how much they could do about that and it's their bus. The only other thing is that an old car like that at that point, after all that cleaning and dissasembling inside, would have been nice to having been cleaned and disassembled also outside, but that's it 1\n",
      "Is there a full video on this I wanna watch it 1\n",
      "Am I the only one to think that they're turning it into a very _heavy_ RV? I don't know much about the engine in these things, but my guess is that five miles out yer suspension will start complaining. 1\n",
      "Everytime I see one of these videos everyone explains that a school bus is the worst vehicle for renovations like this. 5k miles with no suspension and your renovation looks like it's been through an earth quake. 1\n",
      "Why not just buy an rv? 1\n",
      "RV? ROOM VROOM? 1\n",
      "These look like the same people as the post some time ago with projectile dogs on the bed. 1\n",
      "Hey Jesse, I know what we are gonna do today! 1\n",
      "Same fuel economy as an m1 Abrams tank 1\n",
      "I wish I was rich. 1\n",
      "Song sucks ass 1\n",
      "I wanted to see if they painted the outside. If not, it would just look like an ugly school bus. 1\n",
      "Jesse, let's cook 1\n",
      "Before & aft…. 1\n",
      "My retirement goal is a little fixer upper travel trailer and a paid off truck to pull it and my moped and use it to go from visiting one kid to another (4) and camp grounds and travel. with my 2 dogs and cat (they will probably be gone by then:() and my 3 birds which will outlive me. I have a full plan for securing the awning/screened in fenced area for the animals that only takes 5-10min to set up and already have set up for inside/outside (foldable) bird cage and a pull out cooking/washing area in the luggage compartment. All based on an old Aloha trailer that I redid once. I may be able to buy the trailer this year! (I am 39 but fighting for disability, so will need it sooner rather than later.) 1\n",
      "The audio doesn't help this one 1\n",
      "You get a whole 3 seconds of the tour. Cool payoff. 1\n",
      "All that work for half a second view of the aisle? Lol thanks for the blue balls 1\n",
      "Dude bet this is cheaper than an actual rv 1\n",
      "Until you realize the suspension will feel like it rolling on rocks. The amount of gas this thing will consume. All this work and money. SMH 1\n",
      "This was posted somewhere else and the comments were all about how busses have ass suspension so all this shit would be bouncing around. 1\n",
      "Now take the governor off so she rips 1\n",
      "... but don't go fallin' in love with it.  We're taking it with us when we leave here next month. 1\n",
      "Awesome job guys awesome 1\n",
      "I 100% would do this. I just can’t imagine the cost of gas and repairs. 1\n",
      "What the fuck is the background music? 1\n",
      "Downvoted because of the audio diarrhea. 1\n",
      "Next give us the engine swap you did? You must have! 1\n",
      "I wonder if the amount of weight put in would affect the drive? 1\n",
      "Having taken seats out of school buses they made this way harder than they needed. They are held in with 4 bolts each and then they slide out. No need for an angle grinder 1\n"
     ]
    }
   ],
   "metadata": {}
  },
  {
   "cell_type": "code",
   "execution_count": 136,
   "source": [
    "id = subList[1].id\r\n",
    "\r\n",
    "submission = reddit.submission(id)\r\n",
    "ratio = 0.002\r\n",
    "postUps = submission.ups\r\n",
    "submission.comment_sort='top'\r\n",
    "for comment in submission.comments:\r\n",
    "    if comment.ups > postUps* ratio:\r\n",
    "        print(comment.body[:100], len(comment.body), comment.ups, postUps*ratio)\r\n",
    "        for reply in comment.replies:\r\n",
    "            if reply.ups>postUps*ratio/2:\r\n",
    "                print(\">>\" + reply.body[:100], reply.ups)\r\n",
    "\r\n",
    "        \r\n"
   ],
   "outputs": [
    {
     "output_type": "stream",
     "name": "stdout",
     "text": [
      "Hybrid Calisthenics! His name is Hampton, he has an app called Cultivate! Check him out! 88 311 40.74\n",
      ">>Looked for it in the App Store but no luck.  \n",
      "Edit: nevermind! “Find your community” threw me off 34\n",
      "I like this dude. Positivity all over the place. 48 1220 40.74\n",
      ">>Overly positive people normally annoy the crap out of me (it's my character flaw, not theirs). But t 608\n",
      ">>He seems genuinely sweet 62\n",
      ">>“Now I’ve never met a girl who likes them being called that” — maybe we should stop calling them tha 34\n",
      "\"You can improve yourself AND love yourself at the same time.\"   \n",
      "The best thing I heard in months. 99 199 40.74\n",
      "So I searched around and you guys, I discovered he's on reddit! u/HybridHampton if you're reading th 152 189 40.74\n",
      "I WANT TO BE HIS FRIEND! 24 57 40.74\n",
      "I saw his push up video once and I fucking loved it. It was so different from the other type of vide 214 84 40.74\n",
      ">>Fitness doesn’t need to be fancy and glamorous like “fitness” “influencers” claim in their crap post 27\n"
     ]
    }
   ],
   "metadata": {}
  },
  {
   "cell_type": "code",
   "execution_count": null,
   "source": [],
   "outputs": [],
   "metadata": {}
  },
  {
   "cell_type": "code",
   "execution_count": 147,
   "source": [
    "id = subList[1].id\r\n",
    "\r\n",
    "def comment_extractor(id, ratio=0.004, max_length=300):\r\n",
    "    commentList = []\r\n",
    "    submission = reddit.submission(id)\r\n",
    "    min_ups = submission.ups * ratio\r\n",
    "    submission.comment_sort='top'\r\n",
    "    for comment in submission.comments:\r\n",
    "        if comment.ups > min_ups and len(comment.body) < max_length:\r\n",
    "            commentList.append(comment.body)\r\n",
    "            for reply in comment.replies:\r\n",
    "                if reply.ups>min_ups/2 and len(reply.body) < max_length:\r\n",
    "                    commentList.append(\">>\" + reply.body)\r\n",
    "    return commentList\r\n",
    "\r\n",
    "a=comment_extractor(id)\r\n",
    "print(a)"
   ],
   "outputs": [
    {
     "output_type": "stream",
     "name": "stdout",
     "text": [
      "Hybrid Calisthenics! His name is Hampton, he has an app called Cultivate! Check him out!\n"
     ]
    }
   ],
   "metadata": {}
  },
  {
   "cell_type": "code",
   "execution_count": 132,
   "source": [
    "#post = reddit.submission('oqhgv8')\r\n",
    "post.comment_sort='new'\r\n",
    "for comment in post.comments:\r\n",
    "    print(comment.body, )\r\n"
   ],
   "outputs": [
    {
     "output_type": "stream",
     "name": "stdout",
     "text": [
      "CEO ENTREPRENEUR BORN IN 1964\n",
      "Now Family Guy is predicting the future?\n",
      "Don’t bring up Bill Gates. He wants you dead.\n"
     ]
    }
   ],
   "metadata": {}
  },
  {
   "cell_type": "code",
   "execution_count": 87,
   "source": [
    "submission = reddit.submission(\"8dmv8z\")\r\n",
    "submission.comment_sort\r\n",
    "\r\n"
   ],
   "outputs": [
    {
     "output_type": "execute_result",
     "data": {
      "text/plain": [
       "'confidence'"
      ]
     },
     "metadata": {},
     "execution_count": 87
    }
   ],
   "metadata": {}
  },
  {
   "cell_type": "code",
   "execution_count": 79,
   "source": [
    "for com in submission.comments:\r\n",
    "    print(com.body)"
   ],
   "outputs": [
    {
     "output_type": "stream",
     "name": "stdout",
     "text": [
      "Better than your solution:\n",
      "\n",
      "If you have a comment called `comment`:\n",
      "\n",
      "    comment.mod.distinguish()\n",
      "\n",
      "You don't have the cast the type yourself. `comment.mod` will do it for you. \n",
      "With regard to documentation, every function should have an example for use. I just opened an issue to try to encourage people to help out. Would you care to add examples for the `CommentModeration` class?\n",
      "\n",
      "https://github.com/praw-dev/praw/issues/924\n"
     ]
    }
   ],
   "metadata": {}
  },
  {
   "cell_type": "code",
   "execution_count": null,
   "source": [],
   "outputs": [],
   "metadata": {}
  }
 ],
 "metadata": {
  "orig_nbformat": 4,
  "language_info": {
   "name": "python",
   "version": "3.9.5",
   "mimetype": "text/x-python",
   "codemirror_mode": {
    "name": "ipython",
    "version": 3
   },
   "pygments_lexer": "ipython3",
   "nbconvert_exporter": "python",
   "file_extension": ".py"
  },
  "kernelspec": {
   "name": "python3",
   "display_name": "Python 3.9.5 64-bit ('.venv': venv)"
  },
  "interpreter": {
   "hash": "20b3da85d24270dbde8f5d50f8b7f543836711571c32757deb0d30858ec1ec5a"
  }
 },
 "nbformat": 4,
 "nbformat_minor": 2
}