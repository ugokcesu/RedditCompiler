{
 "cells": [
  {
   "cell_type": "code",
   "execution_count": 17,
   "source": [
    "import youtube_dl\r\n",
    "import moviepy\r\n",
    "from moviepy.editor import *"
   ],
   "outputs": [],
   "metadata": {}
  },
  {
   "cell_type": "code",
   "execution_count": 16,
   "metadata": {},
   "outputs": [
    {
     "output_type": "stream",
     "name": "stdout",
     "text": [
      "Cooper-Black\n"
     ]
    }
   ],
   "source": [
    "for font in (TextClip.list('font')):\n",
    "    if \"oop\" in font:\n",
    "        print(font)"
   ]
  },
  {
   "cell_type": "code",
   "execution_count": 22,
   "metadata": {},
   "outputs": [
    {
     "output_type": "stream",
     "name": "stdout",
     "text": [
      "6\n6\n"
     ]
    }
   ],
   "source": [
    "a = 5\n",
    "def printer():\n",
    "    a=6\n",
    "\n",
    "    print(a)\n",
    "printer()\n",
    "print(a)"
   ]
  },
  {
   "cell_type": "code",
   "execution_count": 7,
   "source": [
    "link = \"https://www.youtube.com/watch?v=IGQBtbKSVhY\"\r\n",
    "ydl_opts = {\r\n",
    "    'format': 'bestvideo+bestaudio/best',\r\n",
    "    'outtmpl': 'test.mp4',\r\n",
    "}\r\n",
    "with youtube_dl.YoutubeDL(ydl_opts) as ydl:\r\n",
    "    ydl.download([link])"
   ],
   "outputs": [
    {
     "output_type": "stream",
     "name": "stdout",
     "text": [
      "[youtube] IGQBtbKSVhY: Downloading webpage\n"
     ]
    },
    {
     "output_type": "stream",
     "name": "stderr",
     "text": [
      "WARNING: Requested formats are incompatible for merge and will be merged into mkv.\n"
     ]
    },
    {
     "output_type": "stream",
     "name": "stdout",
     "text": [
      "[download] Destination: test.f398.mp4\n",
      "[download] 100% of 514.88KiB in 00:00                  \n",
      "[download] Destination: test.mp4.f251\n",
      "[download] 100% of 80.26KiB in 00:00                  \n",
      "[ffmpeg] Merging formats into \"test.mkv\"\n",
      "Deleting original file test.f398.mp4 (pass -k to keep)\n",
      "Deleting original file test.mp4.f251 (pass -k to keep)\n"
     ]
    }
   ],
   "metadata": {}
  },
  {
   "cell_type": "code",
   "execution_count": 55,
   "source": [
    "test = VideoFileClip(\"folder1/1.mp4\")\r\n",
    "print(test.duration)\r\n",
    "hello = AudioFileClip(\"hello/hello.m4a\")\r\n",
    "print(hello.duration)\r\n",
    "\r\n",
    "conc = concatenate_audioclips([hello, test.audio.subclip(hello.duration,test.duration)])\r\n",
    "conc.write_audiofile(\"folder1/1_sound.mp3\")"
   ],
   "outputs": [
    {
     "output_type": "stream",
     "name": "stdout",
     "text": [
      "49.84\n"
     ]
    },
    {
     "output_type": "stream",
     "name": "stderr",
     "text": [
      "chunk:   2%|▏         | 26/1099 [00:22<02:30,  7.15it/s, now=None]"
     ]
    },
    {
     "output_type": "stream",
     "name": "stdout",
     "text": [
      "5.41\n",
      "MoviePy - Writing audio in folder1/1_sound.mp3\n"
     ]
    },
    {
     "output_type": "stream",
     "name": "stderr",
     "text": [
      "chunk:   2%|▏         | 26/1099 [00:24<02:30,  7.15it/s, now=None]"
     ]
    },
    {
     "output_type": "stream",
     "name": "stdout",
     "text": [
      "MoviePy - Done.\n"
     ]
    }
   ],
   "metadata": {}
  },
  {
   "cell_type": "code",
   "execution_count": 56,
   "source": [
    "test = test.set_audio(conc)\r\n",
    "test.write_videofile(\"folder1/1_hello.mp4\")\r\n"
   ],
   "outputs": [
    {
     "output_type": "stream",
     "name": "stderr",
     "text": [
      "chunk:   2%|▏         | 26/1099 [01:26<02:30,  7.15it/s, now=None]"
     ]
    },
    {
     "output_type": "stream",
     "name": "stdout",
     "text": [
      "Moviepy - Building video folder1/1_hello.mp4.\n",
      "MoviePy - Writing audio in 1_helloTEMP_MPY_wvf_snd.mp3\n"
     ]
    },
    {
     "output_type": "stream",
     "name": "stderr",
     "text": [
      "chunk:   2%|▏         | 26/1099 [01:28<02:30,  7.15it/s, now=None]"
     ]
    },
    {
     "output_type": "stream",
     "name": "stdout",
     "text": [
      "MoviePy - Done.\n",
      "Moviepy - Writing video folder1/1_hello.mp4\n",
      "\n"
     ]
    },
    {
     "output_type": "stream",
     "name": "stderr",
     "text": [
      "chunk:   2%|▏         | 26/1099 [01:33<02:30,  7.15it/s, now=None]"
     ]
    },
    {
     "output_type": "stream",
     "name": "stdout",
     "text": [
      "Moviepy - Done !\n",
      "Moviepy - video ready folder1/1_hello.mp4\n"
     ]
    }
   ],
   "metadata": {}
  },
  {
   "cell_type": "code",
   "execution_count": 22,
   "source": [
    "import os\r\n",
    "import random\r\n",
    "random.choice(os.listdir(\"audio/\")) #change dir name to whatever"
   ],
   "outputs": [
    {
     "output_type": "execute_result",
     "data": {
      "text/plain": [
       "'Pluckandplay - Kwon.mp3'"
      ]
     },
     "metadata": {},
     "execution_count": 22
    }
   ],
   "metadata": {}
  },
  {
   "cell_type": "code",
   "execution_count": 6,
   "source": [
    "print(test.audio is None)\r\n"
   ],
   "outputs": [
    {
     "output_type": "stream",
     "name": "stdout",
     "text": [
      "True\n"
     ]
    }
   ],
   "metadata": {}
  },
  {
   "cell_type": "code",
   "execution_count": 17,
   "source": [
    "noaud = VideoFileClip(\"name.mp4\")\r\n",
    "\r\n",
    "dur = (noaud.duration)\r\n",
    "\r\n"
   ],
   "outputs": [],
   "metadata": {}
  },
  {
   "cell_type": "code",
   "execution_count": 6,
   "source": [
    "aud = AudioFileClip(\"audio/She No Dull Beat - Nana Kwabena.mp3\").set_duration(5)\r\n"
   ],
   "outputs": [],
   "metadata": {}
  },
  {
   "cell_type": "code",
   "execution_count": 19,
   "source": [
    "aud.duration"
   ],
   "outputs": [
    {
     "output_type": "execute_result",
     "data": {
      "text/plain": [
       "15.0"
      ]
     },
     "metadata": {},
     "execution_count": 19
    }
   ],
   "metadata": {}
  },
  {
   "cell_type": "code",
   "execution_count": 20,
   "source": [
    "with_aud = noaud.set_audio(aud)\r\n",
    "with_aud.write_videofile(\"name_withaudio.mp4\")\r\n"
   ],
   "outputs": [
    {
     "output_type": "stream",
     "name": "stderr",
     "text": [
      "chunk:   0%|          | 0/331 [00:00<?, ?it/s, now=None]"
     ]
    },
    {
     "output_type": "stream",
     "name": "stdout",
     "text": [
      "Moviepy - Building video name_withaudio.mp4.\n",
      "MoviePy - Writing audio in name_withaudioTEMP_MPY_wvf_snd.mp3\n"
     ]
    },
    {
     "output_type": "stream",
     "name": "stderr",
     "text": [
      "t:   0%|          | 0/450 [00:00<?, ?it/s, now=None]"
     ]
    },
    {
     "output_type": "stream",
     "name": "stdout",
     "text": [
      "MoviePy - Done.\n",
      "Moviepy - Writing video name_withaudio.mp4\n",
      "\n"
     ]
    },
    {
     "output_type": "stream",
     "name": "stderr",
     "text": []
    },
    {
     "output_type": "stream",
     "name": "stdout",
     "text": [
      "Moviepy - Done !\n",
      "Moviepy - video ready name_withaudio.mp4\n"
     ]
    }
   ],
   "metadata": {}
  },
  {
   "cell_type": "code",
   "execution_count": null,
   "source": [
    "txt =  TextClip(txt=\"123456789012345678901234567890123456789012345678901234567890\", fontsize=50, color='white')\r\n",
    "txt = txt.set_start(2).set_end(4).set_position('bottom')\r\n"
   ],
   "outputs": [],
   "metadata": {}
  },
  {
   "cell_type": "code",
   "execution_count": null,
   "source": [
    "video = CompositeVideoClip([test,txt])\r\n",
    "video.write_videofile(\"test_withtext.mp4\")"
   ],
   "outputs": [
    {
     "output_type": "stream",
     "name": "stderr",
     "text": [
      "chunk:   0%|          | 0/101 [00:00<?, ?it/s, now=None]"
     ]
    },
    {
     "output_type": "stream",
     "name": "stdout",
     "text": [
      "Moviepy - Building video test_withtext.mp4.\n",
      "MoviePy - Writing audio in test_withtextTEMP_MPY_wvf_snd.mp3\n"
     ]
    },
    {
     "output_type": "stream",
     "name": "stderr",
     "text": [
      "t:   0%|          | 0/137 [00:00<?, ?it/s, now=None]"
     ]
    },
    {
     "output_type": "stream",
     "name": "stdout",
     "text": [
      "MoviePy - Done.\n",
      "Moviepy - Writing video test_withtext.mp4\n",
      "\n"
     ]
    },
    {
     "output_type": "stream",
     "name": "stderr",
     "text": []
    },
    {
     "output_type": "stream",
     "name": "stdout",
     "text": [
      "Moviepy - Done !\n",
      "Moviepy - video ready test_withtext.mp4\n"
     ]
    }
   ],
   "metadata": {}
  },
  {
   "cell_type": "code",
   "execution_count": 5,
   "source": [
    "MARGIN_SIZE = 70\r\n",
    "FONT_SIZE = 50\r\n",
    "COLORS = ['#47761E', '#F09E71']\r\n",
    "\r\n",
    "\r\n",
    "def add_subtitles(videoFile, comments):\r\n",
    "    vid = VideoFileClip(videoFile)\r\n",
    "    vid = vid.margin(bottom=70)\r\n",
    "    duration = vid.duration\r\n",
    "    width = vid.size[0]\r\n",
    "    maxChars = int(width / FONT_SIZE * 2 *0.95)\r\n",
    "    commentsTrimmed = []\r\n",
    "    \r\n",
    "    for comment in comments:\r\n",
    "        end = len(comment)\r\n",
    "        start = 0\r\n",
    "        while end-start > maxChars:\r\n",
    "            index = comment[start:start+maxChars].rfind(' ')\r\n",
    "            if index == -1:\r\n",
    "                index = maxChars+100\r\n",
    "            commentsTrimmed.append(comment[start:index])\r\n",
    "            start += index\r\n",
    "        commentsTrimmed.append(comment[start:])\r\n",
    "\r\n",
    "    time_pointer = 0\r\n",
    "    textClip = []\r\n",
    "    while time_pointer < duration-1:\r\n",
    "        for comment in commentsTrimmed:\r\n",
    "            required_time = len(comment.split())/3 + 1\r\n",
    "            if required_time > duration - time_pointer:\r\n",
    "                required_time = duration - time_pointer\r\n",
    "            if duration - time_pointer >= required_time:\r\n",
    "                textClip.append(TextClip(comment, fontsize=50, font='Pricedown', color='#F09E71')\r\n",
    "                .set_start(time_pointer)\r\n",
    "                .set_end(time_pointer + required_time)\r\n",
    "                .set_position('bottom'))\r\n",
    "                time_pointer += required_time\r\n",
    "    video = CompositeVideoClip([vid, *textClip])\r\n",
    "    video.write_videofile(\"test_withtext.mp4\")\r\n",
    "\r\n",
    "\r\n"
   ],
   "outputs": [],
   "metadata": {}
  },
  {
   "cell_type": "code",
   "execution_count": 2,
   "source": [
    "vidFile = \"test.mp4\"\r\n",
    "comments = ['comment'+str(i) for i in range(1,10)]\r\n",
    "comments[0] = \"long comment made of 9 words should be 3secs but where will it even be cut I wonder very much 0123456789\"\r\n",
    "\r\n",
    "add_subtitles(vidFile,['aa', 'ab'])"
   ],
   "outputs": [
    {
     "output_type": "error",
     "ename": "NameError",
     "evalue": "name 'add_subtitles' is not defined",
     "traceback": [
      "\u001b[1;31m---------------------------------------------------------------------------\u001b[0m",
      "\u001b[1;31mNameError\u001b[0m                                 Traceback (most recent call last)",
      "\u001b[1;32m<ipython-input-2-15b17370fff1>\u001b[0m in \u001b[0;36m<module>\u001b[1;34m\u001b[0m\n\u001b[0;32m      3\u001b[0m \u001b[0mcomments\u001b[0m\u001b[1;33m[\u001b[0m\u001b[1;36m0\u001b[0m\u001b[1;33m]\u001b[0m \u001b[1;33m=\u001b[0m \u001b[1;34m\"long comment made of 9 words should be 3secs but where will it even be cut I wonder very much 0123456789\"\u001b[0m\u001b[1;33m\u001b[0m\u001b[1;33m\u001b[0m\u001b[0m\n\u001b[0;32m      4\u001b[0m \u001b[1;33m\u001b[0m\u001b[0m\n\u001b[1;32m----> 5\u001b[1;33m \u001b[0madd_subtitles\u001b[0m\u001b[1;33m(\u001b[0m\u001b[0mvidFile\u001b[0m\u001b[1;33m,\u001b[0m\u001b[1;33m[\u001b[0m\u001b[1;34m'aa'\u001b[0m\u001b[1;33m,\u001b[0m \u001b[1;34m'ab'\u001b[0m\u001b[1;33m]\u001b[0m\u001b[1;33m)\u001b[0m\u001b[1;33m\u001b[0m\u001b[1;33m\u001b[0m\u001b[0m\n\u001b[0m",
      "\u001b[1;31mNameError\u001b[0m: name 'add_subtitles' is not defined"
     ]
    }
   ],
   "metadata": {}
  },
  {
   "cell_type": "code",
   "execution_count": 31,
   "source": [
    "for font in TextClip.list('font'):\r\n",
    "    if 'obs' in font:\r\n",
    "        print(font)"
   ],
   "outputs": [
    {
     "output_type": "stream",
     "name": "stdout",
     "text": [
      "Lobster\n"
     ]
    }
   ],
   "metadata": {}
  },
  {
   "cell_type": "code",
   "execution_count": 3,
   "source": [
    "import re\r\n",
    "def censor_comments(comments):\r\n",
    "    censoredComments = []\r\n",
    "    badWords = [('fuck', 'f*ck'), ('shit', 'sh*t'), ('ass', 'a**'), ('bitch', 'b*tch'), ('pussy', 'p*ssy'), ('dick', 'd*ck'), ('nigger', 'n*gga'), ('cunt', 'c*nt')]\r\n",
    "    for comment in comments:\r\n",
    "        for word, replacement in badWords:\r\n",
    "            comment = re.sub(word, replacement,comment, flags=re.IGNORECASE)\r\n",
    "        censoredComments.append(comment)\r\n",
    "    return censoredComments"
   ],
   "outputs": [],
   "metadata": {}
  },
  {
   "cell_type": "code",
   "execution_count": 4,
   "source": [
    "comments = ['shut yo bitch ASS up fool.', 'fuck you nigga cunt']\r\n",
    "print(censor_comments(comments))"
   ],
   "outputs": [
    {
     "output_type": "stream",
     "name": "stdout",
     "text": [
      "['shut yo b*tch a** up fool.', 'f*ck you nigga c*nt']\n"
     ]
    }
   ],
   "metadata": {}
  },
  {
   "cell_type": "code",
   "execution_count": 8,
   "source": [
    "import os\r\n",
    "\r\n",
    "def create_arguments(file, title, description):\r\n",
    "    options = '--file \"' + file + '\"'\r\n",
    "    options += ' --title \"' + title + '\"'\r\n",
    "    options += ' --description \"' + description + '\"'\r\n",
    "    return options\r\n",
    "\r\n",
    "def upload_video(options):\r\n",
    "    os.system(\"python upload_video.py \" + options)\r\n",
    "\r\n",
    "if 1==1:\r\n",
    "    args = create_arguments(\"test.mp4\", \"test Reddit's r/Unexpected Video Compilation (with comments!)\", \\\r\n",
    "    \"This is a compilation of the best videos on reddit's Unexpected sub with comments. \\n Thanks for watching! \\n \\\r\n",
    "    #Reddit #compilation #unexpected\")\r\n",
    "    upload_video(args)\r\n",
    "\r\n"
   ],
   "outputs": [],
   "metadata": {}
  },
  {
   "cell_type": "code",
   "execution_count": 6,
   "source": [],
   "outputs": [
    {
     "output_type": "error",
     "ename": "NameError",
     "evalue": "name 'a' is not defined",
     "traceback": [
      "\u001b[1;31m---------------------------------------------------------------------------\u001b[0m",
      "\u001b[1;31mNameError\u001b[0m                                 Traceback (most recent call last)",
      "\u001b[1;32m<ipython-input-6-3f786850e387>\u001b[0m in \u001b[0;36m<module>\u001b[1;34m\u001b[0m\n\u001b[1;32m----> 1\u001b[1;33m \u001b[0ma\u001b[0m\u001b[1;33m\u001b[0m\u001b[1;33m\u001b[0m\u001b[0m\n\u001b[0m",
      "\u001b[1;31mNameError\u001b[0m: name 'a' is not defined"
     ]
    }
   ],
   "metadata": {}
  },
  {
   "cell_type": "code",
   "execution_count": null,
   "source": [],
   "outputs": [],
   "metadata": {}
  }
 ],
 "metadata": {
  "orig_nbformat": 4,
  "language_info": {
   "name": "python",
   "version": "3.9.6",
   "mimetype": "text/x-python",
   "codemirror_mode": {
    "name": "ipython",
    "version": 3
   },
   "pygments_lexer": "ipython3",
   "nbconvert_exporter": "python",
   "file_extension": ".py"
  },
  "kernelspec": {
   "name": "python3",
   "display_name": "Python 3.9.6 64-bit ('.venv': venv)"
  },
  "interpreter": {
   "hash": "864891d228941dbf39f80b4d7d0320a8918ee176eff769ef2e46706fc3c6df8c"
  }
 },
 "nbformat": 4,
 "nbformat_minor": 2
}